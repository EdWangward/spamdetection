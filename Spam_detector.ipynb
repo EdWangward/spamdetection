{
  "nbformat": 4,
  "nbformat_minor": 0,
  "metadata": {
    "colab": {
      "name": "Spam detector.ipynb",
      "private_outputs": true,
      "provenance": [],
      "authorship_tag": "ABX9TyPmYB59njFAq9wAdqRq5JEg",
      "include_colab_link": true
    },
    "kernelspec": {
      "name": "python3",
      "display_name": "Python 3"
    }
  },
  "cells": [
    {
      "cell_type": "markdown",
      "metadata": {
        "id": "view-in-github",
        "colab_type": "text"
      },
      "source": [
        "<a href=\"https://colab.research.google.com/github/EdWangward/spamdetection/blob/main/Spam_detector.ipynb\" target=\"_parent\"><img src=\"https://colab.research.google.com/assets/colab-badge.svg\" alt=\"Open In Colab\"/></a>"
      ]
    },
    {
      "cell_type": "code",
      "metadata": {
        "id": "creBqpOvIxnv"
      },
      "source": [
        "import pandas as pd\n",
        "from sklearn.model_selection import train_test_split\n",
        "from sklearn.feature_extraction.text import CountVectorizer\n",
        "from sklearn import svm"
      ],
      "execution_count": null,
      "outputs": []
    },
    {
      "cell_type": "code",
      "metadata": {
        "id": "aqz1-YLtJoXS"
      },
      "source": [
        "spam = pd.read_csv('spam.csv')\n",
        "print(spam.head())"
      ],
      "execution_count": null,
      "outputs": []
    },
    {
      "cell_type": "code",
      "metadata": {
        "id": "lxE96IVtMvIG"
      },
      "source": [
        "x = spam['EmailText']\n",
        "y = spam[\"Label\"]\n",
        "x_train, x_test,y_train, y_test = train_test_split(x,y,test_size = 0.2,random_state=4)"
      ],
      "execution_count": null,
      "outputs": []
    },
    {
      "cell_type": "code",
      "metadata": {
        "id": "Y943Y3s6NkxL"
      },
      "source": [
        "cv = CountVectorizer()\n",
        "features = cv.fit_transform(x_train)\n",
        "print(features)\n",
        "model = svm.SVC()\n",
        "model.fit(features,y_train)"
      ],
      "execution_count": null,
      "outputs": []
    },
    {
      "cell_type": "code",
      "metadata": {
        "id": "3Ysu8ibzOs8P"
      },
      "source": [
        "features_test = cv.transform(x_test)\n",
        "print(model.score(features_test,y_test))"
      ],
      "execution_count": null,
      "outputs": []
    }
  ]
}